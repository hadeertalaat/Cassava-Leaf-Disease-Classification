{
 "cells": [
  {
   "cell_type": "code",
   "execution_count": 1,
   "metadata": {
    "_cell_guid": "b1076dfc-b9ad-4769-8c92-a6c4dae69d19",
    "_uuid": "8f2839f25d086af736a60e9eeb907d3b93b6e0e5",
    "execution": {
     "iopub.execute_input": "2021-02-27T03:45:43.496215Z",
     "iopub.status.busy": "2021-02-27T03:45:43.495649Z",
     "iopub.status.idle": "2021-02-27T03:45:57.561784Z",
     "shell.execute_reply": "2021-02-27T03:45:57.560689Z"
    },
    "papermill": {
     "duration": 14.078877,
     "end_time": "2021-02-27T03:45:57.562029",
     "exception": false,
     "start_time": "2021-02-27T03:45:43.483152",
     "status": "completed"
    },
    "tags": []
   },
   "outputs": [
    {
     "name": "stdout",
     "output_type": "stream",
     "text": [
      "         image_id  label\n",
      "0  2216849948.jpg      2\n"
     ]
    }
   ],
   "source": [
    "import os\n",
    "import numpy as np\n",
    "import pandas as pd\n",
    "import tensorflow as tf\n",
    "import cv2\n",
    "import sys\n",
    "import matplotlib.pyplot as plt\n",
    "import keras\n",
    "from keras.preprocessing.image import ImageDataGenerator\n",
    "from keras import layers\n",
    "from keras import Model\n",
    "from keras.applications.inception_v3 import InceptionV3, preprocess_input\n",
    "from keras.optimizers import Adam\n",
    "from keras.callbacks import ReduceLROnPlateau, EarlyStopping, LearningRateScheduler\n",
    "from sklearn.preprocessing import LabelBinarizer\n",
    "\n",
    "# image_size = 224\n",
    "image_size = 100\n",
    "\n",
    "model = keras.models.load_model('../input/funny-leaf-5/saved_model.h5')\n",
    "\n",
    "def preprocess_test(path):\n",
    "    arrays_t = []\n",
    "    labels = []\n",
    "    i = 0\n",
    "    for dirname, _, filenames in (os.walk(path)):\n",
    "        for filename in filenames:\n",
    "#             if i >= 5:\n",
    "            if i >= len(filenames):\n",
    "                break\n",
    "            i = i + 1\n",
    "            image_path = os.path.join(path, filename)\n",
    "            image = cv2.imread(image_path)\n",
    "            image = cv2.cvtColor(image, cv2.COLOR_BGR2RGB)\n",
    "            image = cv2.resize(image, (image_size, image_size))\n",
    "            arrays_t.append(image)  \n",
    "            labels.append(filename)  \n",
    "    arrays_t = np.array(arrays_t, dtype=\"float32\")\n",
    "    return arrays_t,labels\n",
    "path = '/kaggle/input/cassava-leaf-disease-classification/test_images'\n",
    "test_data,test_labels = preprocess_test(path)\n",
    "test_data = test_data / 255.\n",
    "\n",
    "y_perd = model.predict(test_data)\n",
    "classes = [np.argmax(element) for element in y_perd]\n",
    "output = pd.DataFrame({'image_id': test_labels, 'label': classes})\n",
    "print(output)\n",
    "output.to_csv('submission.csv', index=False)"
   ]
  }
 ],
 "metadata": {
  "kernelspec": {
   "display_name": "Python 3",
   "language": "python",
   "name": "python3"
  },
  "language_info": {
   "codemirror_mode": {
    "name": "ipython",
    "version": 3
   },
   "file_extension": ".py",
   "mimetype": "text/x-python",
   "name": "python",
   "nbconvert_exporter": "python",
   "pygments_lexer": "ipython3",
   "version": "3.7.9"
  },
  "papermill": {
   "default_parameters": {},
   "duration": 21.643856,
   "end_time": "2021-02-27T03:46:00.388199",
   "environment_variables": {},
   "exception": null,
   "input_path": "__notebook__.ipynb",
   "output_path": "__notebook__.ipynb",
   "parameters": {},
   "start_time": "2021-02-27T03:45:38.744343",
   "version": "2.2.2"
  }
 },
 "nbformat": 4,
 "nbformat_minor": 4
}
